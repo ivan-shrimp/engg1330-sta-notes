{
    "metadata": {
        "kernelspec": {
            "name": "python3",
            "display_name": "Python 3 (ipykernel)",
            "language": "python"
        }
    },
    "nbformat": 4,
    "nbformat_minor": 2,
    "cells": [
        {
            "attachments": {},
            "cell_type": "markdown",
            "metadata": {},
            "source": [
                "# Week 6 - Tutorial Task Review\n",
                "\n",
                "The Week 6 Quiz was completed and reviewed in class, and our notes have already been uploaded as [week6.pdf](./week6.pdf).\n",
                "\n",
                "The Week 5 Advanced Coding Challenge (Permutation) and the Week 4 Quiz Q2 (Find the Number) have also been discussed. Below are our solutions for the Advanced Coding Challenges and Quizzes we have discussed recently."
            ]
        },
        {
            "cell_type": "code",
            "execution_count": 0,
            "metadata": {},
            "outputs": [],
            "source": [
                "# Week 4 Quiz - Q1\n",
                "# Extracting items that are not equal to their previous one.\n",
                "\n",
                "def remove_duplicates(numList):\n",
                "    return [n for i, n in enumerate(numList) if i == 0 or numList[i-1] != n]"
            ]
        },
        {
            "cell_type": "code",
            "execution_count": 0,
            "metadata": {},
            "outputs": [],
            "source": [
                "# Week 4 Quiz - Q1\n",
                "# Using `dict` as a tool for deduplication.\n",
                "\n",
                "def remove_duplicates(numList):\n",
                "    return list(dict.fromkeys(numList))\n",
                "    # same: return [*{x: None for x in numList}]"
            ]
        },
        {
            "cell_type": "code",
            "execution_count": 0,
            "metadata": {},
            "outputs": [],
            "source": [
                "# Week 4 Quiz - Q2\n",
                "# Using `set` to find which item is missing.\n",
                "\n",
                "def find_number(numList):\n",
                "    n = len(numList)\n",
                "`   target = set(range(1 + n))\n",
                "    existing = set(numList)\n",
                "    missing = target - existing\n",
                "    return missing.pop()"
            ]
        },
        {
            "cell_type": "code",
            "execution_count": 0,
            "metadata": {},
            "outputs": [],
            "source": [
                "# Week 4 Quiz - Q2\n",
                "# Using the sum of all given numbers to find which item is missing.\n",
                "\n",
                "def find_number(numList):\n",
                "    n = len(numList)\n",
                "    target = n * (n + 1) // 2\n",
                "    # same, perhaps slower: target = sum(range(n+1))\n",
                "    existing = sum(numList)\n",
                "    return target - existing"
            ]
        },
        {
            "cell_type": "code",
            "execution_count": 0,
            "metadata": {},
            "outputs": [],
            "source": [
                "# Week 5 Advanced Coding Challenge\n",
                "# Using the built-in `itertools.permutations`.\n",
                "\n",
                "from itertools import permutations\n",
                "\n",
                "def main():\n",
                "    nums = input().split()\n",
                "    for perm in permutations(nums):\n",
                "        # `itertools.permutations` returns tuples, but we want to display a list.\n",
                "        print(list(perm))\n",
                "main()"
            ]
        },
        {
            "cell_type": "code",
            "execution_count": 0,
            "metadata": {},
            "outputs": [],
            "source": [
                "# Week 5 Advanced Coding Challenge\n",
                "# Manually implementing permutations through recursion.\n",
                "\n",
                "def permutations(nums):\n",
                "    if not nums:\n",
                "        return [[]]\n",
                "    return [\n",
                "        [first, *rest]\n",
                "        for i, first in enumerate(nums)\n",
                "        for rest in permutations(nums[:i] + nums[i+1:])\n",
                "    ]\n",
                "\n",
                "def main():\n",
                "    nums = input().split()\n",
                "    for perm in permutations(nums):\n",
                "        print(perm)\n",
                "main()"
            ]
        },
        {
            "cell_type": "code",
            "execution_count": 3,
            "metadata": {},
            "outputs": [
                {
                    "name": "stdout",
                    "output_type": "stream",
                    "text": "['1']\n"
                }
            ],
            "source": [
                "# Week 5 Advanced Coding Challenge\n",
                "# Manually implementing permutations through recursion; an alternative approach.\n",
                "\n",
                "def permutations(nums):\n",
                "    def inner(pos):\n",
                "        if pos == len(nums):\n",
                "            result.append(nums[:])\n",
                "        else:\n",
                "            for i in range(pos, len(nums)):\n",
                "                nums[pos], nums[i] = nums[i], nums[pos]\n",
                "                inner(pos + 1)\n",
                "            nums[-1], *nums[pos:-1] = nums[pos:]\n",
                "\n",
                "    result = []\n",
                "    inner(0)\n",
                "    return result\n",
                "\n",
                "def main():\n",
                "    nums = input().split()\n",
                "    for perm in permutations(nums):\n",
                "        print(perm)\n",
                "main()"
            ]
        }
    ]
}
